{
 "cells": [
  {
   "cell_type": "code",
   "execution_count": 3,
   "id": "4350a4b9-713c-4206-9445-55226bd81f9a",
   "metadata": {},
   "outputs": [
    {
     "name": "stdout",
     "output_type": "stream",
     "text": [
      "[[14 24 30]\n",
      " [ 0 14 24]\n",
      " [ 0  0 14]]\n"
     ]
    }
   ],
   "source": [
    "import numpy as np \n",
    "a_arr = np.array([[1, 1, 1], [0, 1, 1], [0, 0, 1]])\n",
    "b_arr = np.array([[7, 5, 3], [0, 7, 5], [0, 0, 7]])\n",
    "c = b_arr.dot(a_arr) + a_arr.dot(b_arr) \n",
    "\n",
    "print(c)"
   ]
  },
  {
   "cell_type": "code",
   "execution_count": 4,
   "id": "b28390b7-9ddb-4b4d-977e-a3ebdfe6d649",
   "metadata": {},
   "outputs": [
    {
     "name": "stdout",
     "output_type": "stream",
     "text": [
      "12\n"
     ]
    }
   ],
   "source": [
    "import numpy as np \n",
    "arr_a = np.array([[0, 2, 0], [3, 4, 5], [6, 7, 8]])\n",
    "a_det = np.linalg.det(arr_a)\n",
    "print(format(a_det,'.9g'))\n"
   ]
  },
  {
   "cell_type": "code",
   "execution_count": 5,
   "id": "673156bc-2f03-444f-9ed9-c6e5294c7d05",
   "metadata": {},
   "outputs": [
    {
     "name": "stdout",
     "output_type": "stream",
     "text": [
      "[[-9 13]\n",
      " [15  4]]\n"
     ]
    }
   ],
   "source": [
    "matrix_1 = np.array([[3, 5], [6, -1]])\n",
    "matrix_2 = np.array([[2, 1], [-3, 2]])\n",
    "matrix_3 = matrix_1.dot(matrix_2)\n",
    "print(matrix_3) \n"
   ]
  },
  {
   "cell_type": "code",
   "execution_count": 6,
   "id": "7ba0a263-1c19-4012-a8d7-d355ee3a65a9",
   "metadata": {},
   "outputs": [
    {
     "name": "stdout",
     "output_type": "stream",
     "text": [
      "12\n"
     ]
    }
   ],
   "source": [
    "import numpy as np \n",
    "arr_a = np.array([[0, 2, 0], [3, 4, 5], [6, 7, 8]])\n",
    "a_det = np.linalg.det(arr_a)\n",
    "print(format(a_det,'.9g')) \n"
   ]
  },
  {
   "cell_type": "code",
   "execution_count": 7,
   "id": "3088f75d-1b38-4752-9b5e-3c517722cfcb",
   "metadata": {},
   "outputs": [
    {
     "name": "stdout",
     "output_type": "stream",
     "text": [
      "-24\n"
     ]
    }
   ],
   "source": [
    "import numpy as np \n",
    "a_arr = np.array([[1, 2, 0,0,0], [1, 0, 2, 0,0], [1, 0, 0, 2,0], [1, 0, 0, 0,2],[0,0,1,1,1]])\n",
    "a_det = np.linalg.det(a_arr)\n",
    "print(format(a_det,'.9g'))"
   ]
  },
  {
   "cell_type": "code",
   "execution_count": 8,
   "id": "82663490-f49e-4529-b1ff-6c20c2c364ae",
   "metadata": {},
   "outputs": [
    {
     "name": "stdout",
     "output_type": "stream",
     "text": [
      "[[  1.  -1.   1.]\n",
      " [-38.  41. -34.]\n",
      " [ 27. -29.  24.]]\n"
     ]
    }
   ],
   "source": [
    "a = np.array([[2, 5, 7], [6, 3, 4], [5, -2, -3]])\n",
    "a_inv = np.linalg.inv(a) \n",
    "print(a_inv)\n",
    "\n"
   ]
  },
  {
   "cell_type": "code",
   "execution_count": 9,
   "id": "08bd31f9-aecd-445c-8e84-d56f503edff5",
   "metadata": {},
   "outputs": [
    {
     "name": "stdout",
     "output_type": "stream",
     "text": [
      "3\n"
     ]
    }
   ],
   "source": [
    "aa = np.array([[-2, 3, 1,-1], [3, 2, 1, 4], [1, 2, 3, 4], [0, 2, 3, 3]])\n",
    "rank = np.linalg.matrix_rank(aa) \n",
    "print(rank)\n"
   ]
  },
  {
   "cell_type": "code",
   "execution_count": 10,
   "id": "c54c7e29-6648-4429-a5cf-9f80ea872f4a",
   "metadata": {},
   "outputs": [
    {
     "name": "stdout",
     "output_type": "stream",
     "text": [
      "A= [[ 1 -2  3]\n",
      " [ 4  2 -3]\n",
      " [ 3 -3  5]]\n",
      "B= [[-5]\n",
      " [ 0]\n",
      " [-9]]\n",
      "[[ 0.2  0.2  0. ]\n",
      " [-5.8 -0.8  3. ]\n",
      " [-3.6 -0.6  2. ]]\n",
      "X= [[-1.0000000e+00]\n",
      " [ 2.0000000e+00]\n",
      " [-8.8817842e-16]]\n"
     ]
    }
   ],
   "source": [
    "A = np.matrix('1 -2 3; 4 2 -3; 3 -3 5')\n",
    "B = np.matrix('-5; 0; -9')\n",
    "print('A=', A)\n",
    "print('B=',B)\n",
    "A_inv = np.linalg.inv(A)\n",
    "print(A_inv)\n",
    "X = A_inv.dot(B)\n",
    "print('X=',X)\n"
   ]
  },
  {
   "cell_type": "code",
   "execution_count": 11,
   "id": "27e3475d-d907-4dec-8b37-7d13f47d5c8f",
   "metadata": {},
   "outputs": [
    {
     "name": "stdout",
     "output_type": "stream",
     "text": [
      "Solving a system of linear algebraic equations by Cramer*s method\n",
      "x= -1.0 y= 2.0 z= 0.0\n",
      "Checking the correctness of the solution\n",
      " [[-1.]\n",
      " [ 2.]\n",
      " [-0.]]\n"
     ]
    }
   ],
   "source": [
    "a = np.matrix('1 -2 3; 4 2 -3; 3 -3 5') \n",
    "b = np.matrix('-5; 0; -9') \n",
    "def kram(a,b): \n",
    "    det_a = np.linalg.det(a) \n",
    "    if det_a != 0: \n",
    "       a1 = np.matrix(a) \n",
    "       a2 = np.matrix(a) \n",
    "       a3 = np.matrix(a) \n",
    "       a1[:, 0] = b \n",
    "       a2[:, 1] = b \n",
    "       a3[:, 2] = b \n",
    "       x = np.linalg.det(a1)/det_a \n",
    "       y =np.linalg.det(a2)/det_a \n",
    "       z= np.linalg.det(a3)/det_a \n",
    "       print('Solving a system of linear algebraic equations by Cramer*s method') \n",
    "       print('x=',x.round(3),'y=',y.round(3),'z=',z.round(3))  \n",
    "    else: \n",
    "        print('Determinant equals zero, the system has no solutions') \n",
    "    return x,y,z \n",
    "kram(a,b) \n",
    "print('Checking the correctness of the solution\\n', np.linalg.solve(a,b).round(3))\n"
   ]
  },
  {
   "cell_type": "code",
   "execution_count": 12,
   "id": "03887227-a2ae-4893-b670-e5836f55b5cc",
   "metadata": {},
   "outputs": [
    {
     "name": "stdout",
     "output_type": "stream",
     "text": [
      "[[0 0 0 2]\n",
      " [0 2 0 1]\n",
      " [4 3 2 4]]\n",
      "[0.5  0.75 3.25]\n",
      "Найнижче середнє значення: 0.5\n"
     ]
    }
   ],
   "source": [
    "a = np.array(np.random.randint(0,5, size=(3,4)))\n",
    "average_rows = np.mean(a, axis=1)\n",
    "minimum = np.min(average_rows)\n",
    "print(a)\n",
    "print(average_rows)\n",
    "\n",
    "print('Найнижче середнє значення:', minimum)\n"
   ]
  },
  {
   "cell_type": "code",
   "execution_count": null,
   "id": "700ec29e-a349-4680-80c7-49f07fd99e93",
   "metadata": {},
   "outputs": [],
   "source": []
  }
 ],
 "metadata": {
  "kernelspec": {
   "display_name": "Python 3 (ipykernel)",
   "language": "python",
   "name": "python3"
  },
  "language_info": {
   "codemirror_mode": {
    "name": "ipython",
    "version": 3
   },
   "file_extension": ".py",
   "mimetype": "text/x-python",
   "name": "python",
   "nbconvert_exporter": "python",
   "pygments_lexer": "ipython3",
   "version": "3.11.5"
  }
 },
 "nbformat": 4,
 "nbformat_minor": 5
}
