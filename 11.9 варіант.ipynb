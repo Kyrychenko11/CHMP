{
 "cells": [
  {
   "cell_type": "code",
   "execution_count": 2,
   "id": "3aae49fe-79e8-42e8-b2f2-92c39a0a7504",
   "metadata": {},
   "outputs": [
    {
     "name": "stdout",
     "output_type": "stream",
     "text": [
      "Trapezoidal method: 0.163\n",
      "Check for the trapezoidal method = 0.16341\n"
     ]
    }
   ],
   "source": [
    "from scipy import integrate \n",
    "import numpy as np\n",
    "\n",
    "# Задаємо функцію, яку необхідно інтегрувати\n",
    "def f(x):\n",
    "    return 1/(np.sqrt(x) + 3)  # Виправлено функцію тут\n",
    "\n",
    "# Задаємо межі інтегрування та початкову кількість розбиттів\n",
    "a = 3.2\n",
    "b = 4\n",
    "n = 10\n",
    "\n",
    "# Обчислюємо значення інтегралу методом трапецій\n",
    "def trapezoidal_rule(f, a, b, n):\n",
    "    h = (b - a) / n\n",
    "    x = a\n",
    "    integral_sum = f(a) + f(b)  # Додаємо значення функції на початку і в кінці\n",
    "    for i in range(1, n):\n",
    "        x += h\n",
    "        integral_sum += 2 * f(x)\n",
    "    integral = h / 2 * integral_sum\n",
    "\n",
    "    return integral\n",
    "\n",
    "# Обчислюємо значення інтегралу методом трапецій з точністю 0.001\n",
    "# Перевірка точності за правилом Рунге\n",
    "integral1 = trapezoidal_rule(f, a, b, n)\n",
    "n *= 2\n",
    "integral2 = trapezoidal_rule(f, a, b, n)\n",
    "while abs(integral2 - integral1) / 3 > 0.001:\n",
    "    integral1 = integral2\n",
    "    n *= 2\n",
    "    integral2 = trapezoidal_rule(f, a, b, n)\n",
    "\n",
    "# Виводимо результат\n",
    "print(\"Trapezoidal method:\", round(integral2, 3))\n",
    "\n",
    "# Перевірка з використанням integrate.quad\n",
    "v, err = integrate.quad(f, a, b)\n",
    "print(\"Check for the trapezoidal method =\", round(v, 5))\n",
    "\n"
   ]
  },
  {
   "cell_type": "code",
   "execution_count": 4,
   "id": "e6175992-95b9-4c9f-9e4e-67a37e185922",
   "metadata": {},
   "outputs": [
    {
     "name": "stdout",
     "output_type": "stream",
     "text": [
      "Right rectangle: 2.94499\n",
      "Average rectangle: 2.87925\n",
      "Check for the rectangle method = 2.87801\n"
     ]
    }
   ],
   "source": [
    "from scipy import integrate \n",
    "import numpy as np\n",
    "\n",
    "eps = 0.001\n",
    "a = 1.2\n",
    "b = 2\n",
    "\n",
    "def f1(x): \n",
    "    return (2*x + 0.5) * np.sin(x)  # Виправлено функцію тут\n",
    "\n",
    "def left_rec(f1, a, b, n): \n",
    "    h = (b - a) / n \n",
    "    integral_sum = 0 \n",
    "    for i in range(0, n): \n",
    "        integral_sum += f1(a + i * h) \n",
    "    return integral_sum * h \n",
    "\n",
    "v, err = integrate.quad(f1, a, b)  # Перевірка\n",
    "\n",
    "# Перевірка точності за правилом Рунге:\n",
    "if abs(left_rec(f1, a, b, 2 * 8) - left_rec(f1, a, b, 8)) / 3. <= eps:\n",
    "    print(\"Left rectangle:\", round(left_rec(f1, a, b, 8), 5)) \n",
    "\n",
    "def right_rec(f1, a, b, n): \n",
    "    h = (b - a) / n \n",
    "    integral_sum = 0 \n",
    "    for i in range(1, n + 1): \n",
    "        integral_sum += f1(a + i * h) \n",
    "    return integral_sum * h \n",
    "\n",
    "print(\"Right rectangle:\", round(right_rec(f1, a, b, 8), 5)) \n",
    "\n",
    "def aver_rec(f1, a, b, n): \n",
    "    h = (b - a) / n \n",
    "    integral_sum = 0 \n",
    "    for i in range(0, n): \n",
    "        integral_sum += f1(a + i * h + h / 2)  # Додано h / 2\n",
    "    return integral_sum * h \n",
    "\n",
    "print(\"Average rectangle:\", round(aver_rec(f1, a, b, 8), 5)) \n",
    "\n",
    "print(\"Check for the rectangle method =\", round(v, 5))\n"
   ]
  },
  {
   "cell_type": "code",
   "execution_count": 6,
   "id": "3d850bbd-caf4-4c89-9b3a-90aa96d09d20",
   "metadata": {},
   "outputs": [
    {
     "name": "stdout",
     "output_type": "stream",
     "text": [
      "Simpson method: 2.107\n",
      "Check for the Simpson method = 2.107\n"
     ]
    }
   ],
   "source": [
    "from scipy import integrate \n",
    "import numpy as np\n",
    "\n",
    "# Задаємо функцію, яку необхідно інтегрувати\n",
    "def f(x):\n",
    "    return (x + 1) * np.sin(x) \n",
    "\n",
    "# Задаємо межі інтегрування та початкову кількість розбиттів\n",
    "a = 1.6\n",
    "b = 2.4\n",
    "n = 8\n",
    "\n",
    "# Обчислюємо значення інтегралу методом Сімпсона\n",
    "def simpson_rule(f, a, b, n):\n",
    "    h = (b - a) / n \n",
    "    integral = f(a) + f(b) \n",
    "    for i in range(1, n): \n",
    "        k = a + i * h \n",
    "        if i % 2 == 0: \n",
    "            integral += 2 * f(k) \n",
    "        else: \n",
    "            integral += 4 * f(k) \n",
    "    integral *= h / 3 \n",
    "    return integral \n",
    "\n",
    "# Обчислюємо значення інтегралу методом Сімпсона з точністю 0.001\n",
    "integral1 = simpson_rule(f, a, b, n)\n",
    "n *= 2\n",
    "integral2 = simpson_rule(f, a, b, n)\n",
    "while abs(integral2 - integral1) / 15 > 0.001:\n",
    "    integral1 = integral2\n",
    "    n *= 2\n",
    "    integral2 = simpson_rule(f, a, b, n)\n",
    "\n",
    "# Виводимо результат\n",
    "print(\"Simpson method:\", round(integral2, 3))\n",
    "\n",
    "v, err = integrate.quad(f, a, b)  # Перевірка \n",
    "print(\"Check for the Simpson method =\", round(v, 3))\n",
    "\n"
   ]
  },
  {
   "cell_type": "code",
   "execution_count": null,
   "id": "185a6088-392c-4bdf-8b1e-d5a8742ac451",
   "metadata": {},
   "outputs": [],
   "source": []
  }
 ],
 "metadata": {
  "kernelspec": {
   "display_name": "Python 3 (ipykernel)",
   "language": "python",
   "name": "python3"
  },
  "language_info": {
   "codemirror_mode": {
    "name": "ipython",
    "version": 3
   },
   "file_extension": ".py",
   "mimetype": "text/x-python",
   "name": "python",
   "nbconvert_exporter": "python",
   "pygments_lexer": "ipython3",
   "version": "3.11.5"
  }
 },
 "nbformat": 4,
 "nbformat_minor": 5
}
